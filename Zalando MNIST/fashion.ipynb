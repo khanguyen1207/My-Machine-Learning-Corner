{
 "cells": [
  {
   "cell_type": "code",
   "execution_count": 1,
   "metadata": {
    "scrolled": false
   },
   "outputs": [
    {
     "name": "stderr",
     "output_type": "stream",
     "text": [
      "/home/nkha/anaconda3/lib/python3.6/site-packages/h5py/__init__.py:36: FutureWarning: Conversion of the second argument of issubdtype from `float` to `np.floating` is deprecated. In future, it will be treated as `np.float64 == np.dtype(float).type`.\n",
      "  from ._conv import register_converters as _register_converters\n"
     ]
    }
   ],
   "source": [
    "import tensorflow as tf\n",
    "from tensorflow.examples.tutorials.mnist import input_data"
   ]
  },
  {
   "cell_type": "code",
   "execution_count": 2,
   "metadata": {},
   "outputs": [
    {
     "name": "stdout",
     "output_type": "stream",
     "text": [
      "[name: \"/device:CPU:0\"\n",
      "device_type: \"CPU\"\n",
      "memory_limit: 268435456\n",
      "locality {\n",
      "}\n",
      "incarnation: 15667240483160004928\n",
      "]\n"
     ]
    }
   ],
   "source": [
    "from tensorflow.python.client import device_lib\n",
    "print(device_lib.list_local_devices())"
   ]
  },
  {
   "cell_type": "code",
   "execution_count": 3,
   "metadata": {
    "scrolled": true
   },
   "outputs": [
    {
     "name": "stdout",
     "output_type": "stream",
     "text": [
      "Extracting data/fashion/train-images-idx3-ubyte.gz\n",
      "Extracting data/fashion/train-labels-idx1-ubyte.gz\n",
      "Extracting data/fashion/t10k-images-idx3-ubyte.gz\n",
      "Extracting data/fashion/t10k-labels-idx1-ubyte.gz\n"
     ]
    }
   ],
   "source": [
    "fashion_mnist = input_data.read_data_sets('data/fashion', source_url='http://fashion-mnist.s3-website.eu-central-1.amazonaws.com/')"
   ]
  },
  {
   "cell_type": "code",
   "execution_count": 4,
   "metadata": {},
   "outputs": [],
   "source": [
    "train = fashion_mnist.train\n",
    "test = fashion_mnist.test"
   ]
  },
  {
   "cell_type": "code",
   "execution_count": 5,
   "metadata": {},
   "outputs": [],
   "source": [
    "types = {\n",
    "    '0': 'T-shirt/top',\n",
    "    '1': 'Trouser',\n",
    "    '2': 'Pullover',\n",
    "    '3': 'Dress',\n",
    "    '4': 'Coat',\n",
    "    '5': 'Sandal',\n",
    "    '6': 'Shirt',\n",
    "    '7': 'Sneaker',\n",
    "    '8': 'Bag',\n",
    "    '9': 'Ankle boot'\n",
    "}"
   ]
  },
  {
   "cell_type": "code",
   "execution_count": 6,
   "metadata": {},
   "outputs": [],
   "source": [
    "import matplotlib.pyplot as plt"
   ]
  },
  {
   "cell_type": "code",
   "execution_count": 7,
   "metadata": {},
   "outputs": [
    {
     "data": {
      "image/png": "[encoded data removed]",
      "text/plain": [
       "<matplotlib.figure.Figure at 0x7f094478eef0>"
      ]
     },
     "metadata": {},
     "output_type": "display_data"
    },
    {
     "data": {
      "image/png": "[encoded data removed]",
      "text/plain": [
       "<matplotlib.figure.Figure at 0x7f09444cffd0>"
      ]
     },
     "metadata": {},
     "output_type": "display_data"
    }
   ],
   "source": [
    "# Show images and labels\n",
    "plt.imshow(train.images[0].reshape(28,28), cmap='gist_gray')\n",
    "plt.title(types[str(train.labels[0])])\n",
    "plt.show()\n",
    "\n",
    "plt.imshow(train.images[23].reshape(28,28), cmap='gist_gray')\n",
    "plt.title(types[str(train.labels[23])])\n",
    "plt.show()"
   ]
  },
  {
   "cell_type": "code",
   "execution_count": 8,
   "metadata": {},
   "outputs": [],
   "source": [
    "#Reshaping train and test set\n",
    "X_train, X_test = train.images, test.images\n",
    "X_train = X_train.reshape(X_train.shape[0], 28, 28, 1)\n",
    "X_test = X_test.reshape(X_test.shape[0], 28, 28, 1)\n",
    "\n",
    "X_train = X_train.astype('float32')\n",
    "X_test = X_test.astype('float32')\n",
    "\n",
    "X_train= X_train/32\n",
    "X_test = X_test/32"
   ]
  },
  {
   "cell_type": "code",
   "execution_count": 9,
   "metadata": {},
   "outputs": [],
   "source": [
    "Y_train, Y_test = train.labels, test.labels"
   ]
  },
  {
   "cell_type": "code",
   "execution_count": 10,
   "metadata": {},
   "outputs": [
    {
     "name": "stdout",
     "output_type": "stream",
     "text": [
      "X_train shape:  (55000, 28, 28, 1)\n",
      "y_train shape:  (55000,)\n",
      "X_test shape:  (10000, 28, 28, 1)\n",
      "y_test shape:  (10000,)\n"
     ]
    }
   ],
   "source": [
    "print('X_train shape: ', X_train.shape)\n",
    "print('y_train shape: ', Y_train.shape)\n",
    "print('X_test shape: ', X_test.shape)\n",
    "print('y_test shape: ', Y_test.shape)"
   ]
  },
  {
   "cell_type": "code",
   "execution_count": 11,
   "metadata": {},
   "outputs": [
    {
     "name": "stderr",
     "output_type": "stream",
     "text": [
      "Using TensorFlow backend.\n"
     ]
    }
   ],
   "source": [
    "import keras\n",
    "from keras.models import Sequential\n",
    "from keras.layers import Dense, Dropout, Activation, Flatten\n",
    "from keras.optimizers import Adam\n",
    "from keras.layers.normalization import BatchNormalization\n",
    "from keras.layers import Convolution2D, MaxPooling2D\n",
    "from keras.layers import Conv2D, MaxPooling2D, ZeroPadding2D, GlobalAveragePooling2D,MaxPool2D\n",
    "from keras.optimizers import RMSprop\n",
    "class CnnIsFakeModel():\n",
    "    # tuning parameter is defined within the __init__ for the sake of simplicity\n",
    "    def __init__(self, inputshape):\n",
    "        model = Sequential()\n",
    "\n",
    "        model.add(Conv2D(filters = 32, kernel_size = (5,5),padding = 'Same', \n",
    "                         activation ='relu', input_shape = (28,28,1)))\n",
    "        model.add(Conv2D(filters = 32, kernel_size = (5,5),padding = 'Same', \n",
    "                         activation ='relu'))\n",
    "        model.add(MaxPool2D(pool_size=(2,2)))\n",
    "        model.add(Dropout(0.25))\n",
    "\n",
    "\n",
    "        model.add(Conv2D(filters = 64, kernel_size = (3,3),padding = 'Same', \n",
    "                         activation ='relu'))\n",
    "        model.add(Conv2D(filters = 64, kernel_size = (3,3),padding = 'Same', \n",
    "                         activation ='relu'))\n",
    "        model.add(MaxPool2D(pool_size=(2,2), strides=(2,2)))\n",
    "        model.add(Dropout(0.25))\n",
    "\n",
    "\n",
    "        model.add(Flatten())\n",
    "        model.add(Dense(512, activation = \"relu\"))\n",
    "        model.add(BatchNormalization())\n",
    "        model.add(Dropout(0.5))\n",
    "        model.add(Dense(10, activation = \"softmax\"))\n",
    "        optimizer = RMSprop(lr=0.001, rho=0.9, epsilon=1e-08, decay=0.0)\n",
    "        model.compile(optimizer = optimizer , loss = \"categorical_crossentropy\", metrics=[\"accuracy\"])\n",
    "        self.model = model\n",
    "    \n",
    "    def getModel(self):\n",
    "        return self.model\n",
    "        "
   ]
  },
  {
   "cell_type": "code",
   "execution_count": 12,
   "metadata": {
    "scrolled": true
   },
   "outputs": [
    {
     "name": "stdout",
     "output_type": "stream",
     "text": [
      "_________________________________________________________________\n",
      "Layer (type)                 Output Shape              Param #   \n",
      "=================================================================\n",
      "conv2d_1 (Conv2D)            (None, 28, 28, 32)        832       \n",
      "_________________________________________________________________\n",
      "conv2d_2 (Conv2D)            (None, 28, 28, 32)        25632     \n",
      "_________________________________________________________________\n",
      "max_pooling2d_1 (MaxPooling2 (None, 14, 14, 32)        0         \n",
      "_________________________________________________________________\n",
      "dropout_1 (Dropout)          (None, 14, 14, 32)        0         \n",
      "_________________________________________________________________\n",
      "conv2d_3 (Conv2D)            (None, 14, 14, 64)        18496     \n",
      "_________________________________________________________________\n",
      "conv2d_4 (Conv2D)            (None, 14, 14, 64)        36928     \n",
      "_________________________________________________________________\n",
      "max_pooling2d_2 (MaxPooling2 (None, 7, 7, 64)          0         \n",
      "_________________________________________________________________\n",
      "dropout_2 (Dropout)          (None, 7, 7, 64)          0         \n",
      "_________________________________________________________________\n",
      "flatten_1 (Flatten)          (None, 3136)              0         \n",
      "_________________________________________________________________\n",
      "dense_1 (Dense)              (None, 512)               1606144   \n",
      "_________________________________________________________________\n",
      "batch_normalization_1 (Batch (None, 512)               2048      \n",
      "_________________________________________________________________\n",
      "dropout_3 (Dropout)          (None, 512)               0         \n",
      "_________________________________________________________________\n",
      "dense_2 (Dense)              (None, 10)                5130      \n",
      "=================================================================\n",
      "Total params: 1,695,210\n",
      "Trainable params: 1,694,186\n",
      "Non-trainable params: 1,024\n",
      "_________________________________________________________________\n"
     ]
    }
   ],
   "source": [
    "myCNN = CnnIsFakeModel((28,28,1))\n",
    "myCNN.getModel().summary()"
   ]
  },
  {
   "cell_type": "code",
   "execution_count": 13,
   "metadata": {},
   "outputs": [],
   "source": [
    "from keras.utils import np_utils\n",
    "Y_train = np_utils.to_categorical(Y_train, 10)\n",
    "Y_test = np_utils.to_categorical(Y_test, 10)"
   ]
  },
  {
   "cell_type": "code",
   "execution_count": 14,
   "metadata": {},
   "outputs": [
    {
     "name": "stdout",
     "output_type": "stream",
     "text": [
      "Train on 55000 samples, validate on 10000 samples\n",
      "Epoch 1/40\n",
      "55000/55000 [==============================] - 227s 4ms/step - loss: 0.6818 - acc: 0.7496 - val_loss: 0.4882 - val_acc: 0.8251\n",
      "Epoch 2/40\n",
      "55000/55000 [==============================] - 225s 4ms/step - loss: 0.4243 - acc: 0.8461 - val_loss: 0.4035 - val_acc: 0.8431\n",
      "Epoch 3/40\n",
      "55000/55000 [==============================] - 224s 4ms/step - loss: 0.3606 - acc: 0.8694 - val_loss: 0.4051 - val_acc: 0.8602\n",
      "Epoch 4/40\n",
      "55000/55000 [==============================] - 224s 4ms/step - loss: 0.3204 - acc: 0.8825 - val_loss: 0.3358 - val_acc: 0.8765\n",
      "Epoch 5/40\n",
      "55000/55000 [==============================] - 223s 4ms/step - loss: 0.2955 - acc: 0.8912 - val_loss: 0.2832 - val_acc: 0.8956\n",
      "Epoch 6/40\n",
      "55000/55000 [==============================] - 224s 4ms/step - loss: 0.2740 - acc: 0.8977 - val_loss: 0.3014 - val_acc: 0.8941\n",
      "Epoch 7/40\n",
      "55000/55000 [==============================] - 224s 4ms/step - loss: 0.2582 - acc: 0.9050 - val_loss: 0.2641 - val_acc: 0.9019\n",
      "Epoch 8/40\n",
      "55000/55000 [==============================] - 224s 4ms/step - loss: 0.2462 - acc: 0.9101 - val_loss: 0.2939 - val_acc: 0.8941\n",
      "Epoch 9/40\n",
      "55000/55000 [==============================] - 224s 4ms/step - loss: 0.2326 - acc: 0.9138 - val_loss: 0.2733 - val_acc: 0.9017\n",
      "Epoch 10/40\n",
      "55000/55000 [==============================] - 223s 4ms/step - loss: 0.2234 - acc: 0.9169 - val_loss: 0.3349 - val_acc: 0.8727\n",
      "Epoch 11/40\n",
      "55000/55000 [==============================] - 224s 4ms/step - loss: 0.2143 - acc: 0.9213 - val_loss: 0.2328 - val_acc: 0.9167\n",
      "Epoch 12/40\n",
      "55000/55000 [==============================] - 224s 4ms/step - loss: 0.2074 - acc: 0.9234 - val_loss: 0.2586 - val_acc: 0.9017\n",
      "Epoch 13/40\n",
      "55000/55000 [==============================] - 224s 4ms/step - loss: 0.1976 - acc: 0.9264 - val_loss: 0.2838 - val_acc: 0.8983\n",
      "Epoch 14/40\n",
      "55000/55000 [==============================] - 224s 4ms/step - loss: 0.1916 - acc: 0.9285 - val_loss: 0.2733 - val_acc: 0.9024\n",
      "Epoch 15/40\n",
      "55000/55000 [==============================] - 224s 4ms/step - loss: 0.1832 - acc: 0.9314 - val_loss: 0.2485 - val_acc: 0.9093\n",
      "\n",
      "Epoch 00015: ReduceLROnPlateau reducing learning rate to 0.0005000000237487257.\n",
      "Epoch 16/40\n",
      "55000/55000 [==============================] - 224s 4ms/step - loss: 0.1628 - acc: 0.9390 - val_loss: 0.2114 - val_acc: 0.9244\n",
      "Epoch 17/40\n",
      "55000/55000 [==============================] - 224s 4ms/step - loss: 0.1564 - acc: 0.9420 - val_loss: 0.2109 - val_acc: 0.9257\n",
      "Epoch 18/40\n",
      "55000/55000 [==============================] - 224s 4ms/step - loss: 0.1515 - acc: 0.9438 - val_loss: 0.2086 - val_acc: 0.9268\n",
      "Epoch 19/40\n",
      "55000/55000 [==============================] - 224s 4ms/step - loss: 0.1472 - acc: 0.9455 - val_loss: 0.2079 - val_acc: 0.9283\n",
      "Epoch 20/40\n",
      "55000/55000 [==============================] - 224s 4ms/step - loss: 0.1431 - acc: 0.9459 - val_loss: 0.2114 - val_acc: 0.9249\n",
      "Epoch 21/40\n",
      "55000/55000 [==============================] - 223s 4ms/step - loss: 0.1384 - acc: 0.9489 - val_loss: 0.2149 - val_acc: 0.9292\n",
      "Epoch 22/40\n",
      "55000/55000 [==============================] - 224s 4ms/step - loss: 0.1372 - acc: 0.9488 - val_loss: 0.2252 - val_acc: 0.9204\n",
      "Epoch 23/40\n",
      "55000/55000 [==============================] - 224s 4ms/step - loss: 0.1314 - acc: 0.9519 - val_loss: 0.2192 - val_acc: 0.9235\n",
      "Epoch 24/40\n",
      "55000/55000 [==============================] - 224s 4ms/step - loss: 0.1297 - acc: 0.9522 - val_loss: 0.2193 - val_acc: 0.9253\n",
      "Epoch 25/40\n",
      "55000/55000 [==============================] - 224s 4ms/step - loss: 0.1265 - acc: 0.9525 - val_loss: 0.2196 - val_acc: 0.9282\n",
      "\n",
      "Epoch 00025: ReduceLROnPlateau reducing learning rate to 0.0002500000118743628.\n",
      "Epoch 26/40\n",
      "55000/55000 [==============================] - 223s 4ms/step - loss: 0.1185 - acc: 0.9562 - val_loss: 0.2042 - val_acc: 0.9286\n",
      "Epoch 27/40\n",
      "55000/55000 [==============================] - 224s 4ms/step - loss: 0.1139 - acc: 0.9580 - val_loss: 0.2038 - val_acc: 0.9302\n",
      "Epoch 28/40\n",
      "55000/55000 [==============================] - 224s 4ms/step - loss: 0.1117 - acc: 0.9589 - val_loss: 0.2002 - val_acc: 0.9329\n",
      "Epoch 29/40\n",
      "55000/55000 [==============================] - 224s 4ms/step - loss: 0.1096 - acc: 0.9600 - val_loss: 0.2159 - val_acc: 0.9275\n",
      "Epoch 30/40\n",
      "55000/55000 [==============================] - 224s 4ms/step - loss: 0.1073 - acc: 0.9598 - val_loss: 0.2073 - val_acc: 0.9294\n",
      "Epoch 31/40\n",
      "55000/55000 [==============================] - 223s 4ms/step - loss: 0.1053 - acc: 0.9607 - val_loss: 0.2085 - val_acc: 0.9337\n",
      "Epoch 32/40\n",
      "55000/55000 [==============================] - 224s 4ms/step - loss: 0.1042 - acc: 0.9606 - val_loss: 0.2034 - val_acc: 0.9329\n",
      "Epoch 33/40\n",
      "55000/55000 [==============================] - 226s 4ms/step - loss: 0.1039 - acc: 0.9615 - val_loss: 0.2000 - val_acc: 0.9336\n",
      "Epoch 34/40\n",
      "55000/55000 [==============================] - 224s 4ms/step - loss: 0.1028 - acc: 0.9621 - val_loss: 0.2017 - val_acc: 0.9312\n",
      "Epoch 35/40\n",
      "55000/55000 [==============================] - 225s 4ms/step - loss: 0.1007 - acc: 0.9629 - val_loss: 0.2037 - val_acc: 0.9332\n",
      "\n",
      "Epoch 00035: ReduceLROnPlateau reducing learning rate to 0.0001250000059371814.\n",
      "Epoch 36/40\n",
      "55000/55000 [==============================] - 224s 4ms/step - loss: 0.0977 - acc: 0.9643 - val_loss: 0.2010 - val_acc: 0.9342\n",
      "Epoch 37/40\n",
      "55000/55000 [==============================] - 223s 4ms/step - loss: 0.0954 - acc: 0.9640 - val_loss: 0.2083 - val_acc: 0.9337\n",
      "Epoch 38/40\n",
      "55000/55000 [==============================] - 224s 4ms/step - loss: 0.0909 - acc: 0.9671 - val_loss: 0.2196 - val_acc: 0.9317\n",
      "Epoch 39/40\n",
      "55000/55000 [==============================] - 224s 4ms/step - loss: 0.0901 - acc: 0.9666 - val_loss: 0.2028 - val_acc: 0.9348\n",
      "Epoch 40/40\n",
      "55000/55000 [==============================] - 224s 4ms/step - loss: 0.0919 - acc: 0.9674 - val_loss: 0.2101 - val_acc: 0.9333\n"
     ]
    },
    {
     "data": {
      "text/plain": [
       "<keras.callbacks.History at 0x7f0925576668>"
      ]
     },
     "execution_count": 14,
     "metadata": {},
     "output_type": "execute_result"
    }
   ],
   "source": [
    "from keras.callbacks import ReduceLROnPlateau\n",
    "learning_rate_reduction = ReduceLROnPlateau(monitor='val_acc', \n",
    "                                            patience=3, \n",
    "                                            verbose=1, \n",
    "                                            factor=0.5, \n",
    "                                            min_lr=0.00001)\n",
    "myCNN = CnnIsFakeModel((28,28,1))\n",
    "myCNN.getModel().fit(X_train,Y_train,\n",
    "                              epochs = 40, validation_data = (X_test,Y_test),\n",
    "                              verbose = 1, batch_size=512\n",
    "                              , callbacks=[learning_rate_reduction])"
   ]
  },
  {
   "cell_type": "code",
   "execution_count": null,
   "metadata": {},
   "outputs": [],
   "source": []
  }
 ],
 "metadata": {
  "kernelspec": {
   "display_name": "Python 3",
   "language": "python",
   "name": "python3"
  },
  "language_info": {
   "codemirror_mode": {
    "name": "ipython",
    "version": 3
   },
   "file_extension": ".py",
   "mimetype": "text/x-python",
   "name": "python",
   "nbconvert_exporter": "python",
   "pygments_lexer": "ipython3",
   "version": "3.6.4"
  }
 },
 "nbformat": 4,
 "nbformat_minor": 2
}
