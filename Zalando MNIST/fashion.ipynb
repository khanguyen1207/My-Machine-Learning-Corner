{
  "nbformat": 4,
  "nbformat_minor": 0,
  "metadata": {
    "kernelspec": {
      "name": "python3",
      "display_name": "Python 3"
    },
    "language_info": {
      "codemirror_mode": {
        "name": "ipython",
        "version": 3
      },
      "file_extension": ".py",
      "mimetype": "text/x-python",
      "name": "python",
      "nbconvert_exporter": "python",
      "pygments_lexer": "ipython3",
      "version": "3.6.4"
    },
    "colab": {
      "name": "fashion.ipynb",
      "provenance": [],
      "collapsed_sections": []
    },
    "accelerator": "GPU"
  },
  "cells": [
    {
      "cell_type": "code",
      "metadata": {
        "id": "F2DNliZO_UET",
        "colab_type": "code",
        "colab": {
          "base_uri": "https://localhost:8080/",
          "height": 1000
        },
        "outputId": "09c3873f-e457-4435-a714-f08e788c11cf"
      },
      "source": [
        "## Install TensorflowJS\n",
        "!pip install TensorflowJS"
      ],
      "execution_count": 1,
      "outputs": [
        {
          "output_type": "stream",
          "text": [
            "Collecting TensorflowJS\n",
            "\u001b[?25l  Downloading https://files.pythonhosted.org/packages/5e/f2/dfa4faf16329266b1b24e95f0f394576577edb76978402b46f26324a5f7c/tensorflowjs-1.3.2-py3-none-any.whl (53kB)\n",
            "\r\u001b[K     |██████                          | 10kB 27.6MB/s eta 0:00:01\r\u001b[K     |████████████▏                   | 20kB 1.8MB/s eta 0:00:01\r\u001b[K     |██████████████████▏             | 30kB 2.7MB/s eta 0:00:01\r\u001b[K     |████████████████████████▎       | 40kB 1.8MB/s eta 0:00:01\r\u001b[K     |██████████████████████████████▍ | 51kB 2.2MB/s eta 0:00:01\r\u001b[K     |████████████████████████████████| 61kB 2.0MB/s \n",
            "\u001b[?25hRequirement already satisfied: gast==0.2.2 in /usr/local/lib/python3.6/dist-packages (from TensorflowJS) (0.2.2)\n",
            "Collecting numpy==1.16.4\n",
            "\u001b[?25l  Downloading https://files.pythonhosted.org/packages/87/2d/e4656149cbadd3a8a0369fcd1a9c7d61cc7b87b3903b85389c70c989a696/numpy-1.16.4-cp36-cp36m-manylinux1_x86_64.whl (17.3MB)\n",
            "\u001b[K     |████████████████████████████████| 17.3MB 8.5MB/s \n",
            "\u001b[?25hRequirement already satisfied: h5py==2.8.0 in /usr/local/lib/python3.6/dist-packages (from TensorflowJS) (2.8.0)\n",
            "Requirement already satisfied: tensorflow==1.15.0 in /usr/local/lib/python3.6/dist-packages (from TensorflowJS) (1.15.0)\n",
            "Collecting PyInquirer==1.0.3\n",
            "  Downloading https://files.pythonhosted.org/packages/fb/4c/434b7c454010a284b49d6f1d446fe8dc5960415613d8c0225b9e2efb6724/PyInquirer-1.0.3.tar.gz\n",
            "Collecting six==1.11.0\n",
            "  Downloading https://files.pythonhosted.org/packages/67/4b/141a581104b1f6397bfa78ac9d43d8ad29a7ca43ea90a2d863fe3056e86a/six-1.11.0-py2.py3-none-any.whl\n",
            "Collecting tensorflow-hub==0.5.0\n",
            "\u001b[?25l  Downloading https://files.pythonhosted.org/packages/b5/be/f18c352d84382d9c795a0f37eaf16d42ace7d161fbb0ad20bdcd5e550015/tensorflow_hub-0.5.0-py2.py3-none-any.whl (78kB)\n",
            "\u001b[K     |████████████████████████████████| 81kB 5.5MB/s \n",
            "\u001b[?25hRequirement already satisfied: wheel>=0.26 in /usr/local/lib/python3.6/dist-packages (from tensorflow==1.15.0->TensorflowJS) (0.33.6)\n",
            "Requirement already satisfied: keras-applications>=1.0.8 in /usr/local/lib/python3.6/dist-packages (from tensorflow==1.15.0->TensorflowJS) (1.0.8)\n",
            "Requirement already satisfied: absl-py>=0.7.0 in /usr/local/lib/python3.6/dist-packages (from tensorflow==1.15.0->TensorflowJS) (0.8.1)\n",
            "Requirement already satisfied: grpcio>=1.8.6 in /usr/local/lib/python3.6/dist-packages (from tensorflow==1.15.0->TensorflowJS) (1.15.0)\n",
            "Requirement already satisfied: termcolor>=1.1.0 in /usr/local/lib/python3.6/dist-packages (from tensorflow==1.15.0->TensorflowJS) (1.1.0)\n",
            "Requirement already satisfied: opt-einsum>=2.3.2 in /usr/local/lib/python3.6/dist-packages (from tensorflow==1.15.0->TensorflowJS) (3.1.0)\n",
            "Requirement already satisfied: wrapt>=1.11.1 in /usr/local/lib/python3.6/dist-packages (from tensorflow==1.15.0->TensorflowJS) (1.11.2)\n",
            "Requirement already satisfied: keras-preprocessing>=1.0.5 in /usr/local/lib/python3.6/dist-packages (from tensorflow==1.15.0->TensorflowJS) (1.1.0)\n",
            "Requirement already satisfied: protobuf>=3.6.1 in /usr/local/lib/python3.6/dist-packages (from tensorflow==1.15.0->TensorflowJS) (3.10.0)\n",
            "Requirement already satisfied: astor>=0.6.0 in /usr/local/lib/python3.6/dist-packages (from tensorflow==1.15.0->TensorflowJS) (0.8.0)\n",
            "Requirement already satisfied: google-pasta>=0.1.6 in /usr/local/lib/python3.6/dist-packages (from tensorflow==1.15.0->TensorflowJS) (0.1.8)\n",
            "Requirement already satisfied: tensorboard<1.16.0,>=1.15.0 in /usr/local/lib/python3.6/dist-packages (from tensorflow==1.15.0->TensorflowJS) (1.15.0)\n",
            "Requirement already satisfied: tensorflow-estimator==1.15.1 in /usr/local/lib/python3.6/dist-packages (from tensorflow==1.15.0->TensorflowJS) (1.15.1)\n",
            "Collecting prompt_toolkit==1.0.14\n",
            "\u001b[?25l  Downloading https://files.pythonhosted.org/packages/ee/3d/b25d35a9f0d381dd1c02d8e04b37c353caaaff4bc32150328eeebe4931f5/prompt_toolkit-1.0.14-py3-none-any.whl (248kB)\n",
            "\u001b[K     |████████████████████████████████| 256kB 56.7MB/s \n",
            "\u001b[?25hCollecting Pygments>=2.2.0\n",
            "\u001b[?25l  Downloading https://files.pythonhosted.org/packages/5c/73/1dfa428150e3ccb0fa3e68db406e5be48698f2a979ccbcec795f28f44048/Pygments-2.4.2-py2.py3-none-any.whl (883kB)\n",
            "\u001b[K     |████████████████████████████████| 890kB 44.9MB/s \n",
            "\u001b[?25hCollecting regex>=2016.11.21\n",
            "\u001b[?25l  Downloading https://files.pythonhosted.org/packages/e3/8e/cbf2295643d7265e7883326fb4654e643bfc93b3a8a8274d8010a39d8804/regex-2019.11.1-cp36-cp36m-manylinux1_x86_64.whl (643kB)\n",
            "\u001b[K     |████████████████████████████████| 645kB 46.0MB/s \n",
            "\u001b[?25hRequirement already satisfied: setuptools in /usr/local/lib/python3.6/dist-packages (from protobuf>=3.6.1->tensorflow==1.15.0->TensorflowJS) (41.4.0)\n",
            "Requirement already satisfied: werkzeug>=0.11.15 in /usr/local/lib/python3.6/dist-packages (from tensorboard<1.16.0,>=1.15.0->tensorflow==1.15.0->TensorflowJS) (0.16.0)\n",
            "Requirement already satisfied: markdown>=2.6.8 in /usr/local/lib/python3.6/dist-packages (from tensorboard<1.16.0,>=1.15.0->tensorflow==1.15.0->TensorflowJS) (3.1.1)\n",
            "Requirement already satisfied: wcwidth in /usr/local/lib/python3.6/dist-packages (from prompt_toolkit==1.0.14->PyInquirer==1.0.3->TensorflowJS) (0.1.7)\n",
            "Building wheels for collected packages: PyInquirer\n",
            "  Building wheel for PyInquirer (setup.py) ... \u001b[?25l\u001b[?25hdone\n",
            "  Created wheel for PyInquirer: filename=PyInquirer-1.0.3-cp36-none-any.whl size=32853 sha256=de95b50fca1baa9f38dae9fd90e54fe17574c7b1c42899d4f80e624294073629\n",
            "  Stored in directory: /root/.cache/pip/wheels/52/6c/b1/3e4b0e8daf42a92883c7641c0ea8ffb62e0490ebed2faa55ad\n",
            "Successfully built PyInquirer\n",
            "\u001b[31mERROR: google-colab 1.0.0 has requirement six~=1.12.0, but you'll have six 1.11.0 which is incompatible.\u001b[0m\n",
            "\u001b[31mERROR: datascience 0.10.6 has requirement folium==0.2.1, but you'll have folium 0.8.3 which is incompatible.\u001b[0m\n",
            "\u001b[31mERROR: albumentations 0.1.12 has requirement imgaug<0.2.7,>=0.2.5, but you'll have imgaug 0.2.9 which is incompatible.\u001b[0m\n",
            "Installing collected packages: numpy, six, prompt-toolkit, Pygments, regex, PyInquirer, tensorflow-hub, TensorflowJS\n",
            "  Found existing installation: numpy 1.17.3\n",
            "    Uninstalling numpy-1.17.3:\n",
            "      Successfully uninstalled numpy-1.17.3\n",
            "  Found existing installation: six 1.12.0\n",
            "    Uninstalling six-1.12.0:\n",
            "      Successfully uninstalled six-1.12.0\n",
            "  Found existing installation: prompt-toolkit 1.0.18\n",
            "    Uninstalling prompt-toolkit-1.0.18:\n",
            "      Successfully uninstalled prompt-toolkit-1.0.18\n",
            "  Found existing installation: Pygments 2.1.3\n",
            "    Uninstalling Pygments-2.1.3:\n",
            "      Successfully uninstalled Pygments-2.1.3\n",
            "  Found existing installation: tensorflow-hub 0.7.0\n",
            "    Uninstalling tensorflow-hub-0.7.0:\n",
            "      Successfully uninstalled tensorflow-hub-0.7.0\n",
            "Successfully installed PyInquirer-1.0.3 Pygments-2.4.2 TensorflowJS-1.3.2 numpy-1.16.4 prompt-toolkit-1.0.14 regex-2019.11.1 six-1.11.0 tensorflow-hub-0.5.0\n"
          ],
          "name": "stdout"
        },
        {
          "output_type": "display_data",
          "data": {
            "application/vnd.colab-display-data+json": {
              "pip_warning": {
                "packages": [
                  "numpy",
                  "prompt_toolkit",
                  "pygments",
                  "six"
                ]
              }
            }
          },
          "metadata": {
            "tags": []
          }
        }
      ]
    },
    {
      "cell_type": "code",
      "metadata": {
        "scrolled": false,
        "id": "LDYN1SKi6iu4",
        "colab_type": "code",
        "colab": {
          "base_uri": "https://localhost:8080/",
          "height": 79
        },
        "outputId": "5c7e699a-9fc9-4aba-82a2-3a22d743bc08"
      },
      "source": [
        "import tensorflow as tf\n",
        "from tensorflow.examples.tutorials.mnist import input_data"
      ],
      "execution_count": 2,
      "outputs": [
        {
          "output_type": "display_data",
          "data": {
            "text/html": [
              "<p style=\"color: red;\">\n",
              "The default version of TensorFlow in Colab will soon switch to TensorFlow 2.x.<br>\n",
              "We recommend you <a href=\"https://www.tensorflow.org/guide/migrate\" target=\"_blank\">upgrade</a> now \n",
              "or ensure your notebook will continue to use TensorFlow 1.x via the <code>%tensorflow_version 1.x</code> magic:\n",
              "<a href=\"https://colab.research.google.com/notebooks/tensorflow_version.ipynb\" target=\"_blank\">more info</a>.</p>\n"
            ],
            "text/plain": [
              "<IPython.core.display.HTML object>"
            ]
          },
          "metadata": {
            "tags": []
          }
        }
      ]
    },
    {
      "cell_type": "code",
      "metadata": {
        "id": "THBti7kf6iu7",
        "colab_type": "code",
        "outputId": "ef5e03e2-d0f7-4f87-8674-87ab43d35cc2",
        "colab": {
          "base_uri": "https://localhost:8080/",
          "height": 538
        }
      },
      "source": [
        "from tensorflow.python.client import device_lib\n",
        "print(device_lib.list_local_devices())"
      ],
      "execution_count": 3,
      "outputs": [
        {
          "output_type": "stream",
          "text": [
            "[name: \"/device:CPU:0\"\n",
            "device_type: \"CPU\"\n",
            "memory_limit: 268435456\n",
            "locality {\n",
            "}\n",
            "incarnation: 3984600945701505263\n",
            ", name: \"/device:XLA_CPU:0\"\n",
            "device_type: \"XLA_CPU\"\n",
            "memory_limit: 17179869184\n",
            "locality {\n",
            "}\n",
            "incarnation: 3103932641649725592\n",
            "physical_device_desc: \"device: XLA_CPU device\"\n",
            ", name: \"/device:XLA_GPU:0\"\n",
            "device_type: \"XLA_GPU\"\n",
            "memory_limit: 17179869184\n",
            "locality {\n",
            "}\n",
            "incarnation: 18290786203358999222\n",
            "physical_device_desc: \"device: XLA_GPU device\"\n",
            ", name: \"/device:GPU:0\"\n",
            "device_type: \"GPU\"\n",
            "memory_limit: 11330115994\n",
            "locality {\n",
            "  bus_id: 1\n",
            "  links {\n",
            "  }\n",
            "}\n",
            "incarnation: 13863588486861856113\n",
            "physical_device_desc: \"device: 0, name: Tesla K80, pci bus id: 0000:00:04.0, compute capability: 3.7\"\n",
            "]\n"
          ],
          "name": "stdout"
        }
      ]
    },
    {
      "cell_type": "code",
      "metadata": {
        "scrolled": true,
        "id": "lFgZKmJy6iu_",
        "colab_type": "code",
        "outputId": "69d0c3ec-df10-4b67-ff92-d2a78d9f5564",
        "colab": {
          "base_uri": "https://localhost:8080/",
          "height": 474
        }
      },
      "source": [
        "fashion_mnist = input_data.read_data_sets('data/fashion', source_url='http://fashion-mnist.s3-website.eu-central-1.amazonaws.com/')"
      ],
      "execution_count": 4,
      "outputs": [
        {
          "output_type": "stream",
          "text": [
            "WARNING:tensorflow:From <ipython-input-4-d389c822b89e>:1: read_data_sets (from tensorflow.contrib.learn.python.learn.datasets.mnist) is deprecated and will be removed in a future version.\n",
            "Instructions for updating:\n",
            "Please use alternatives such as official/mnist/dataset.py from tensorflow/models.\n",
            "WARNING:tensorflow:From /usr/local/lib/python3.6/dist-packages/tensorflow_core/contrib/learn/python/learn/datasets/mnist.py:260: maybe_download (from tensorflow.contrib.learn.python.learn.datasets.base) is deprecated and will be removed in a future version.\n",
            "Instructions for updating:\n",
            "Please write your own downloading logic.\n",
            "WARNING:tensorflow:From /usr/local/lib/python3.6/dist-packages/tensorflow_core/contrib/learn/python/learn/datasets/base.py:252: _internal_retry.<locals>.wrap.<locals>.wrapped_fn (from tensorflow.contrib.learn.python.learn.datasets.base) is deprecated and will be removed in a future version.\n",
            "Instructions for updating:\n",
            "Please use urllib or similar directly.\n",
            "Successfully downloaded train-images-idx3-ubyte.gz 26421880 bytes.\n",
            "WARNING:tensorflow:From /usr/local/lib/python3.6/dist-packages/tensorflow_core/contrib/learn/python/learn/datasets/mnist.py:262: extract_images (from tensorflow.contrib.learn.python.learn.datasets.mnist) is deprecated and will be removed in a future version.\n",
            "Instructions for updating:\n",
            "Please use tf.data to implement this functionality.\n",
            "Extracting data/fashion/train-images-idx3-ubyte.gz\n",
            "Successfully downloaded train-labels-idx1-ubyte.gz 29515 bytes.\n",
            "WARNING:tensorflow:From /usr/local/lib/python3.6/dist-packages/tensorflow_core/contrib/learn/python/learn/datasets/mnist.py:267: extract_labels (from tensorflow.contrib.learn.python.learn.datasets.mnist) is deprecated and will be removed in a future version.\n",
            "Instructions for updating:\n",
            "Please use tf.data to implement this functionality.\n",
            "Extracting data/fashion/train-labels-idx1-ubyte.gz\n",
            "Successfully downloaded t10k-images-idx3-ubyte.gz 4422102 bytes.\n",
            "Extracting data/fashion/t10k-images-idx3-ubyte.gz\n",
            "Successfully downloaded t10k-labels-idx1-ubyte.gz 5148 bytes.\n",
            "Extracting data/fashion/t10k-labels-idx1-ubyte.gz\n",
            "WARNING:tensorflow:From /usr/local/lib/python3.6/dist-packages/tensorflow_core/contrib/learn/python/learn/datasets/mnist.py:290: DataSet.__init__ (from tensorflow.contrib.learn.python.learn.datasets.mnist) is deprecated and will be removed in a future version.\n",
            "Instructions for updating:\n",
            "Please use alternatives such as official/mnist/dataset.py from tensorflow/models.\n"
          ],
          "name": "stdout"
        }
      ]
    },
    {
      "cell_type": "code",
      "metadata": {
        "id": "8G0Wo6r96ivB",
        "colab_type": "code",
        "colab": {}
      },
      "source": [
        "train = fashion_mnist.train\n",
        "test = fashion_mnist.test"
      ],
      "execution_count": 0,
      "outputs": []
    },
    {
      "cell_type": "code",
      "metadata": {
        "id": "jmdB8QKF6ivD",
        "colab_type": "code",
        "colab": {}
      },
      "source": [
        "types = {\n",
        "    '0': 'T-shirt/top',\n",
        "    '1': 'Trouser',\n",
        "    '2': 'Pullover',\n",
        "    '3': 'Dress',\n",
        "    '4': 'Coat',\n",
        "    '5': 'Sandal',\n",
        "    '6': 'Shirt',\n",
        "    '7': 'Sneaker',\n",
        "    '8': 'Bag',\n",
        "    '9': 'Ankle boot'\n",
        "}"
      ],
      "execution_count": 0,
      "outputs": []
    },
    {
      "cell_type": "code",
      "metadata": {
        "id": "L5BEVKS_6ivF",
        "colab_type": "code",
        "colab": {}
      },
      "source": [
        "import matplotlib.pyplot as plt"
      ],
      "execution_count": 0,
      "outputs": []
    },
    {
      "cell_type": "code",
      "metadata": {
        "id": "ileQmuUG6ivH",
        "colab_type": "code",
        "outputId": "c8f84c15-f1bb-4454-c22a-7ca0ed2e6960",
        "colab": {
          "base_uri": "https://localhost:8080/",
          "height": 545
        }
      },
      "source": [
        "# Show images and labels\n",
        "index = 201\n",
        "plt.imshow(train.images[index].reshape(28,28), cmap='gist_gray')\n",
        "plt.title(types[str(train.labels[index])])\n",
        "plt.show()\n",
        "\n",
        "plt.imshow(train.images[23].reshape(28,28), cmap='gist_gray')\n",
        "plt.title(types[str(train.labels[23])])\n",
        "plt.show()"
      ],
      "execution_count": 8,
      "outputs": [
        {
          "output_type": "display_data",
          "data": {
            "image/png": "[encoded data removed]",
            "text/plain": [
              "<Figure size 432x288 with 1 Axes>"
            ]
          },
          "metadata": {
            "tags": []
          }
        },
        {
          "output_type": "display_data",
          "data": {
            "image/png": "[encoded data removed]",
            "text/plain": [
              "<Figure size 432x288 with 1 Axes>"
            ]
          },
          "metadata": {
            "tags": []
          }
        }
      ]
    },
    {
      "cell_type": "code",
      "metadata": {
        "id": "Jjs62-Hz6ivJ",
        "colab_type": "code",
        "colab": {}
      },
      "source": [
        "#Reshaping train and test set\n",
        "X_train, X_test = train.images, test.images\n",
        "X_train = X_train.reshape(X_train.shape[0], 28, 28, 1)\n",
        "X_test = X_test.reshape(X_test.shape[0], 28, 28, 1)\n",
        "\n",
        "X_train = X_train.astype('float32')\n",
        "X_test = X_test.astype('float32')\n",
        "\n",
        "X_train= X_train/32\n",
        "X_test = X_test/32"
      ],
      "execution_count": 0,
      "outputs": []
    },
    {
      "cell_type": "code",
      "metadata": {
        "id": "5Yw3shzW6ivL",
        "colab_type": "code",
        "colab": {}
      },
      "source": [
        "Y_train, Y_test = train.labels, test.labels"
      ],
      "execution_count": 0,
      "outputs": []
    },
    {
      "cell_type": "code",
      "metadata": {
        "id": "Kz47ynjo6ivN",
        "colab_type": "code",
        "outputId": "52a724ba-5f2e-4c26-c2e3-dc9e04ba6999",
        "colab": {
          "base_uri": "https://localhost:8080/",
          "height": 84
        }
      },
      "source": [
        "print('X_train shape: ', X_train.shape)\n",
        "print('y_train shape: ', Y_train.shape)\n",
        "print('X_test shape: ', X_test.shape)\n",
        "print('y_test shape: ', Y_test.shape)"
      ],
      "execution_count": 11,
      "outputs": [
        {
          "output_type": "stream",
          "text": [
            "X_train shape:  (55000, 28, 28, 1)\n",
            "y_train shape:  (55000,)\n",
            "X_test shape:  (10000, 28, 28, 1)\n",
            "y_test shape:  (10000,)\n"
          ],
          "name": "stdout"
        }
      ]
    },
    {
      "cell_type": "code",
      "metadata": {
        "id": "wp2KGhWz6ivQ",
        "colab_type": "code",
        "outputId": "11dd3014-55e1-4d73-b501-2a0a3b28d4f2",
        "colab": {
          "base_uri": "https://localhost:8080/",
          "height": 34
        }
      },
      "source": [
        "import keras\n",
        "from keras.models import Sequential\n",
        "from keras.layers import Dense, Dropout, Activation, Flatten\n",
        "from keras.optimizers import Adam\n",
        "from keras.layers.normalization import BatchNormalization\n",
        "from keras.layers import Convolution2D, MaxPooling2D\n",
        "from keras.layers import Conv2D, MaxPooling2D, ZeroPadding2D, GlobalAveragePooling2D,MaxPool2D\n",
        "from keras.optimizers import RMSprop\n",
        "class CnnIsFakeModel():\n",
        "    # tuning parameter is defined within the __init__ for the sake of simplicity\n",
        "    def __init__(self, inputshape):\n",
        "        model = Sequential()\n",
        "\n",
        "        model.add(Conv2D(filters = 32, kernel_size = (5,5),padding = 'Same', \n",
        "                         activation ='relu', input_shape = (28,28,1)))\n",
        "        model.add(Conv2D(filters = 32, kernel_size = (5,5),padding = 'Same', \n",
        "                         activation ='relu'))\n",
        "        model.add(MaxPool2D(pool_size=(2,2)))\n",
        "        model.add(Dropout(0.25))\n",
        "\n",
        "\n",
        "        model.add(Conv2D(filters = 64, kernel_size = (3,3),padding = 'Same', \n",
        "                         activation ='relu'))\n",
        "        model.add(Conv2D(filters = 64, kernel_size = (3,3),padding = 'Same', \n",
        "                         activation ='relu'))\n",
        "        model.add(MaxPool2D(pool_size=(2,2), strides=(2,2)))\n",
        "        model.add(Dropout(0.25))\n",
        "\n",
        "\n",
        "        model.add(Flatten())\n",
        "        model.add(Dense(512, activation = \"relu\"))\n",
        "        model.add(BatchNormalization())\n",
        "        model.add(Dropout(0.5))\n",
        "        model.add(Dense(10, activation = \"softmax\"))\n",
        "        optimizer = RMSprop(lr=0.001, rho=0.9, epsilon=1e-08, decay=0.0)\n",
        "        model.compile(optimizer = optimizer , loss = \"categorical_crossentropy\", metrics=[\"accuracy\"])\n",
        "        self.model = model\n",
        "    \n",
        "    def getModel(self):\n",
        "        return self.model\n",
        "        "
      ],
      "execution_count": 12,
      "outputs": [
        {
          "output_type": "stream",
          "text": [
            "Using TensorFlow backend.\n"
          ],
          "name": "stderr"
        }
      ]
    },
    {
      "cell_type": "code",
      "metadata": {
        "scrolled": true,
        "id": "OM2AMSNa6ivS",
        "colab_type": "code",
        "outputId": "5cc8247b-59c2-4f2c-a750-b1aee0fde0e5",
        "colab": {
          "base_uri": "https://localhost:8080/",
          "height": 894
        }
      },
      "source": [
        "myCNN = CnnIsFakeModel((28,28,1))\n",
        "myCNN.getModel().summary()"
      ],
      "execution_count": 13,
      "outputs": [
        {
          "output_type": "stream",
          "text": [
            "WARNING:tensorflow:From /usr/local/lib/python3.6/dist-packages/keras/backend/tensorflow_backend.py:66: The name tf.get_default_graph is deprecated. Please use tf.compat.v1.get_default_graph instead.\n",
            "\n",
            "WARNING:tensorflow:From /usr/local/lib/python3.6/dist-packages/keras/backend/tensorflow_backend.py:541: The name tf.placeholder is deprecated. Please use tf.compat.v1.placeholder instead.\n",
            "\n",
            "WARNING:tensorflow:From /usr/local/lib/python3.6/dist-packages/keras/backend/tensorflow_backend.py:4432: The name tf.random_uniform is deprecated. Please use tf.random.uniform instead.\n",
            "\n",
            "WARNING:tensorflow:From /usr/local/lib/python3.6/dist-packages/keras/backend/tensorflow_backend.py:4267: The name tf.nn.max_pool is deprecated. Please use tf.nn.max_pool2d instead.\n",
            "\n",
            "WARNING:tensorflow:From /usr/local/lib/python3.6/dist-packages/keras/backend/tensorflow_backend.py:148: The name tf.placeholder_with_default is deprecated. Please use tf.compat.v1.placeholder_with_default instead.\n",
            "\n",
            "WARNING:tensorflow:From /usr/local/lib/python3.6/dist-packages/keras/backend/tensorflow_backend.py:3733: calling dropout (from tensorflow.python.ops.nn_ops) with keep_prob is deprecated and will be removed in a future version.\n",
            "Instructions for updating:\n",
            "Please use `rate` instead of `keep_prob`. Rate should be set to `rate = 1 - keep_prob`.\n",
            "WARNING:tensorflow:From /usr/local/lib/python3.6/dist-packages/keras/optimizers.py:793: The name tf.train.Optimizer is deprecated. Please use tf.compat.v1.train.Optimizer instead.\n",
            "\n",
            "WARNING:tensorflow:From /usr/local/lib/python3.6/dist-packages/keras/backend/tensorflow_backend.py:3576: The name tf.log is deprecated. Please use tf.math.log instead.\n",
            "\n",
            "Model: \"sequential_1\"\n",
            "_________________________________________________________________\n",
            "Layer (type)                 Output Shape              Param #   \n",
            "=================================================================\n",
            "conv2d_1 (Conv2D)            (None, 28, 28, 32)        832       \n",
            "_________________________________________________________________\n",
            "conv2d_2 (Conv2D)            (None, 28, 28, 32)        25632     \n",
            "_________________________________________________________________\n",
            "max_pooling2d_1 (MaxPooling2 (None, 14, 14, 32)        0         \n",
            "_________________________________________________________________\n",
            "dropout_1 (Dropout)          (None, 14, 14, 32)        0         \n",
            "_________________________________________________________________\n",
            "conv2d_3 (Conv2D)            (None, 14, 14, 64)        18496     \n",
            "_________________________________________________________________\n",
            "conv2d_4 (Conv2D)            (None, 14, 14, 64)        36928     \n",
            "_________________________________________________________________\n",
            "max_pooling2d_2 (MaxPooling2 (None, 7, 7, 64)          0         \n",
            "_________________________________________________________________\n",
            "dropout_2 (Dropout)          (None, 7, 7, 64)          0         \n",
            "_________________________________________________________________\n",
            "flatten_1 (Flatten)          (None, 3136)              0         \n",
            "_________________________________________________________________\n",
            "dense_1 (Dense)              (None, 512)               1606144   \n",
            "_________________________________________________________________\n",
            "batch_normalization_1 (Batch (None, 512)               2048      \n",
            "_________________________________________________________________\n",
            "dropout_3 (Dropout)          (None, 512)               0         \n",
            "_________________________________________________________________\n",
            "dense_2 (Dense)              (None, 10)                5130      \n",
            "=================================================================\n",
            "Total params: 1,695,210\n",
            "Trainable params: 1,694,186\n",
            "Non-trainable params: 1,024\n",
            "_________________________________________________________________\n"
          ],
          "name": "stdout"
        }
      ]
    },
    {
      "cell_type": "code",
      "metadata": {
        "id": "0gPH9h6p6ivU",
        "colab_type": "code",
        "colab": {}
      },
      "source": [
        "from keras.utils import np_utils\n",
        "Y_train = np_utils.to_categorical(Y_train, 10)\n",
        "Y_test = np_utils.to_categorical(Y_test, 10)"
      ],
      "execution_count": 0,
      "outputs": []
    },
    {
      "cell_type": "code",
      "metadata": {
        "id": "BKNqKfEK6ivW",
        "colab_type": "code",
        "outputId": "18402e6a-0867-4c54-edd6-5a9b6a7eb2ff",
        "colab": {
          "base_uri": "https://localhost:8080/",
          "height": 1000
        }
      },
      "source": [
        "from keras.callbacks import ReduceLROnPlateau\n",
        "learning_rate_reduction = ReduceLROnPlateau(monitor='val_acc', \n",
        "                                            patience=3, \n",
        "                                            verbose=1, \n",
        "                                            factor=0.5, \n",
        "                                            min_lr=0.00001)\n",
        "myCNN = CnnIsFakeModel((28,28,1))\n",
        "myCNN.getModel().fit(X_train,Y_train,\n",
        "                              epochs = 40, validation_data = (X_test,Y_test),\n",
        "                              verbose = 1, batch_size=512\n",
        "                              , callbacks=[learning_rate_reduction])"
      ],
      "execution_count": 15,
      "outputs": [
        {
          "output_type": "stream",
          "text": [
            "WARNING:tensorflow:From /usr/local/lib/python3.6/dist-packages/tensorflow_core/python/ops/math_grad.py:1424: where (from tensorflow.python.ops.array_ops) is deprecated and will be removed in a future version.\n",
            "Instructions for updating:\n",
            "Use tf.where in 2.0, which has the same broadcast rule as np.where\n",
            "WARNING:tensorflow:From /usr/local/lib/python3.6/dist-packages/keras/backend/tensorflow_backend.py:1033: The name tf.assign_add is deprecated. Please use tf.compat.v1.assign_add instead.\n",
            "\n",
            "WARNING:tensorflow:From /usr/local/lib/python3.6/dist-packages/keras/backend/tensorflow_backend.py:1020: The name tf.assign is deprecated. Please use tf.compat.v1.assign instead.\n",
            "\n",
            "WARNING:tensorflow:From /usr/local/lib/python3.6/dist-packages/keras/backend/tensorflow_backend.py:3005: The name tf.Session is deprecated. Please use tf.compat.v1.Session instead.\n",
            "\n",
            "Train on 55000 samples, validate on 10000 samples\n",
            "Epoch 1/40\n",
            "WARNING:tensorflow:From /usr/local/lib/python3.6/dist-packages/keras/backend/tensorflow_backend.py:190: The name tf.get_default_session is deprecated. Please use tf.compat.v1.get_default_session instead.\n",
            "\n",
            "WARNING:tensorflow:From /usr/local/lib/python3.6/dist-packages/keras/backend/tensorflow_backend.py:197: The name tf.ConfigProto is deprecated. Please use tf.compat.v1.ConfigProto instead.\n",
            "\n",
            "WARNING:tensorflow:From /usr/local/lib/python3.6/dist-packages/keras/backend/tensorflow_backend.py:207: The name tf.global_variables is deprecated. Please use tf.compat.v1.global_variables instead.\n",
            "\n",
            "WARNING:tensorflow:From /usr/local/lib/python3.6/dist-packages/keras/backend/tensorflow_backend.py:216: The name tf.is_variable_initialized is deprecated. Please use tf.compat.v1.is_variable_initialized instead.\n",
            "\n",
            "WARNING:tensorflow:From /usr/local/lib/python3.6/dist-packages/keras/backend/tensorflow_backend.py:223: The name tf.variables_initializer is deprecated. Please use tf.compat.v1.variables_initializer instead.\n",
            "\n",
            "55000/55000 [==============================] - 14s 263us/step - loss: 0.7046 - acc: 0.7446 - val_loss: 0.8670 - val_acc: 0.7202\n",
            "Epoch 2/40\n",
            "55000/55000 [==============================] - 7s 130us/step - loss: 0.4369 - acc: 0.8420 - val_loss: 0.5226 - val_acc: 0.8035\n",
            "Epoch 3/40\n",
            "55000/55000 [==============================] - 7s 130us/step - loss: 0.3634 - acc: 0.8686 - val_loss: 0.3911 - val_acc: 0.8626\n",
            "Epoch 4/40\n",
            "55000/55000 [==============================] - 7s 131us/step - loss: 0.3222 - acc: 0.8831 - val_loss: 0.3811 - val_acc: 0.8763\n",
            "Epoch 5/40\n",
            "55000/55000 [==============================] - 7s 130us/step - loss: 0.2970 - acc: 0.8906 - val_loss: 0.3413 - val_acc: 0.8736\n",
            "Epoch 6/40\n",
            "55000/55000 [==============================] - 7s 131us/step - loss: 0.2763 - acc: 0.8981 - val_loss: 0.4046 - val_acc: 0.8318\n",
            "Epoch 7/40\n",
            "55000/55000 [==============================] - 7s 132us/step - loss: 0.2602 - acc: 0.9049 - val_loss: 0.3229 - val_acc: 0.8792\n",
            "Epoch 8/40\n",
            "55000/55000 [==============================] - 7s 131us/step - loss: 0.2452 - acc: 0.9095 - val_loss: 0.2611 - val_acc: 0.9070\n",
            "Epoch 9/40\n",
            "55000/55000 [==============================] - 7s 131us/step - loss: 0.2328 - acc: 0.9131 - val_loss: 0.2567 - val_acc: 0.9053\n",
            "Epoch 10/40\n",
            "55000/55000 [==============================] - 7s 131us/step - loss: 0.2240 - acc: 0.9183 - val_loss: 0.2384 - val_acc: 0.9133\n",
            "Epoch 11/40\n",
            "55000/55000 [==============================] - 7s 131us/step - loss: 0.2138 - acc: 0.9211 - val_loss: 0.2469 - val_acc: 0.9103\n",
            "Epoch 12/40\n",
            "55000/55000 [==============================] - 7s 131us/step - loss: 0.2070 - acc: 0.9232 - val_loss: 0.2799 - val_acc: 0.8996\n",
            "Epoch 13/40\n",
            "55000/55000 [==============================] - 7s 131us/step - loss: 0.1985 - acc: 0.9263 - val_loss: 0.2341 - val_acc: 0.9179\n",
            "Epoch 14/40\n",
            "55000/55000 [==============================] - 7s 131us/step - loss: 0.1929 - acc: 0.9284 - val_loss: 0.2449 - val_acc: 0.9121\n",
            "Epoch 15/40\n",
            "55000/55000 [==============================] - 7s 131us/step - loss: 0.1855 - acc: 0.9304 - val_loss: 0.2381 - val_acc: 0.9157\n",
            "Epoch 16/40\n",
            "55000/55000 [==============================] - 7s 131us/step - loss: 0.1785 - acc: 0.9334 - val_loss: 0.2208 - val_acc: 0.9223\n",
            "Epoch 17/40\n",
            "55000/55000 [==============================] - 7s 131us/step - loss: 0.1732 - acc: 0.9353 - val_loss: 0.2295 - val_acc: 0.9226\n",
            "Epoch 18/40\n",
            "55000/55000 [==============================] - 7s 130us/step - loss: 0.1672 - acc: 0.9377 - val_loss: 0.3136 - val_acc: 0.8968\n",
            "Epoch 19/40\n",
            "55000/55000 [==============================] - 7s 130us/step - loss: 0.1596 - acc: 0.9409 - val_loss: 0.2283 - val_acc: 0.9184\n",
            "Epoch 20/40\n",
            "55000/55000 [==============================] - 7s 131us/step - loss: 0.1572 - acc: 0.9408 - val_loss: 0.2303 - val_acc: 0.9184\n",
            "\n",
            "Epoch 00020: ReduceLROnPlateau reducing learning rate to 0.0005000000237487257.\n",
            "Epoch 21/40\n",
            "55000/55000 [==============================] - 7s 130us/step - loss: 0.1365 - acc: 0.9500 - val_loss: 0.2149 - val_acc: 0.9293\n",
            "Epoch 22/40\n",
            "55000/55000 [==============================] - 7s 130us/step - loss: 0.1312 - acc: 0.9509 - val_loss: 0.1989 - val_acc: 0.9307\n",
            "Epoch 23/40\n",
            "55000/55000 [==============================] - 7s 130us/step - loss: 0.1287 - acc: 0.9521 - val_loss: 0.2138 - val_acc: 0.9299\n",
            "Epoch 24/40\n",
            "55000/55000 [==============================] - 7s 130us/step - loss: 0.1251 - acc: 0.9537 - val_loss: 0.2165 - val_acc: 0.9245\n",
            "Epoch 25/40\n",
            "55000/55000 [==============================] - 7s 130us/step - loss: 0.1199 - acc: 0.9561 - val_loss: 0.1971 - val_acc: 0.9342\n",
            "Epoch 26/40\n",
            "55000/55000 [==============================] - 7s 131us/step - loss: 0.1169 - acc: 0.9560 - val_loss: 0.2072 - val_acc: 0.9321\n",
            "Epoch 27/40\n",
            "55000/55000 [==============================] - 7s 131us/step - loss: 0.1157 - acc: 0.9567 - val_loss: 0.2075 - val_acc: 0.9337\n",
            "Epoch 28/40\n",
            "55000/55000 [==============================] - 7s 131us/step - loss: 0.1124 - acc: 0.9577 - val_loss: 0.2093 - val_acc: 0.9327\n",
            "\n",
            "Epoch 00028: ReduceLROnPlateau reducing learning rate to 0.0002500000118743628.\n",
            "Epoch 29/40\n",
            "55000/55000 [==============================] - 7s 131us/step - loss: 0.1047 - acc: 0.9609 - val_loss: 0.2030 - val_acc: 0.9325\n",
            "Epoch 30/40\n",
            "55000/55000 [==============================] - 7s 132us/step - loss: 0.1000 - acc: 0.9628 - val_loss: 0.2056 - val_acc: 0.9348\n",
            "Epoch 31/40\n",
            "55000/55000 [==============================] - 7s 130us/step - loss: 0.0964 - acc: 0.9638 - val_loss: 0.2034 - val_acc: 0.9356\n",
            "Epoch 32/40\n",
            "55000/55000 [==============================] - 7s 130us/step - loss: 0.0948 - acc: 0.9647 - val_loss: 0.2170 - val_acc: 0.9300\n",
            "Epoch 33/40\n",
            "55000/55000 [==============================] - 7s 130us/step - loss: 0.0946 - acc: 0.9639 - val_loss: 0.2041 - val_acc: 0.9340\n",
            "Epoch 34/40\n",
            "55000/55000 [==============================] - 7s 131us/step - loss: 0.0919 - acc: 0.9670 - val_loss: 0.2158 - val_acc: 0.9337\n",
            "\n",
            "Epoch 00034: ReduceLROnPlateau reducing learning rate to 0.0001250000059371814.\n",
            "Epoch 35/40\n",
            "55000/55000 [==============================] - 7s 131us/step - loss: 0.0884 - acc: 0.9674 - val_loss: 0.2035 - val_acc: 0.9344\n",
            "Epoch 36/40\n",
            "55000/55000 [==============================] - 7s 130us/step - loss: 0.0871 - acc: 0.9681 - val_loss: 0.2094 - val_acc: 0.9337\n",
            "Epoch 37/40\n",
            "55000/55000 [==============================] - 7s 131us/step - loss: 0.0861 - acc: 0.9684 - val_loss: 0.2065 - val_acc: 0.9343\n",
            "\n",
            "Epoch 00037: ReduceLROnPlateau reducing learning rate to 6.25000029685907e-05.\n",
            "Epoch 38/40\n",
            "55000/55000 [==============================] - 7s 130us/step - loss: 0.0841 - acc: 0.9690 - val_loss: 0.2052 - val_acc: 0.9348\n",
            "Epoch 39/40\n",
            "55000/55000 [==============================] - 7s 131us/step - loss: 0.0835 - acc: 0.9683 - val_loss: 0.2004 - val_acc: 0.9371\n",
            "Epoch 40/40\n",
            "55000/55000 [==============================] - 7s 131us/step - loss: 0.0819 - acc: 0.9692 - val_loss: 0.2008 - val_acc: 0.9379\n"
          ],
          "name": "stdout"
        },
        {
          "output_type": "execute_result",
          "data": {
            "text/plain": [
              "<keras.callbacks.History at 0x7f4a66d32470>"
            ]
          },
          "metadata": {
            "tags": []
          },
          "execution_count": 15
        }
      ]
    },
    {
      "cell_type": "code",
      "metadata": {
        "id": "lD1DHQ946ivY",
        "colab_type": "code",
        "colab": {}
      },
      "source": [
        "imgString = 'iVBORw0KGgoAAAANSUhEUgAAABwAAAAcCAYAAAByDd+UAAABTUlEQVRIS+2VsU7DQAyGf0vpxgAbPAIDQyUGmBCKT+pbATPPwMzIA8RD9i7dWBmQOjIwcpHRoUQ60rvchYhIFXS93/4c279LmPlHM/PwD0x23BhzparXTigit6mAaEuZWVPB7l1VX4noodXetOBo3uADMz8BuBCRkxyor+kKFZFg7hhQYwE5BTiotXZR17Xt63eAxphHVV2JyFFO8pjGQUNF7wBjwrFwZn4DcNiH/hrQFcjMWwDHPvQbsB24FZFFGzBpliFo6AvfARxYa0+LongmomVVVZvcloa21B9TbEs/ABQA7nIN3RXk+XcjIktmXgM479o6eEuZ+ety5FwQH+iS98Hd+yCwLMsVEd2LyNmYlg55OPlvMdYmKf0fB05ZmtjMU0uzbZrmsq7rl1mWJrUAoSJSMSkfjj5t+wfMnZ2vm2T8nwCHYpLG33vgJ2jZyB1Ob2O6AAAAAElFTkSuQmCC'"
      ],
      "execution_count": 0,
      "outputs": []
    },
    {
      "cell_type": "code",
      "metadata": {
        "id": "DPLY3fNV01Kw",
        "colab_type": "code",
        "colab": {}
      },
      "source": [
        "from keras.preprocessing import image"
      ],
      "execution_count": 0,
      "outputs": []
    },
    {
      "cell_type": "code",
      "metadata": {
        "id": "8Ya5rhcU1Tka",
        "colab_type": "code",
        "colab": {}
      },
      "source": [
        "from io import BytesIO\n",
        "import base64\n",
        "import numpy as np"
      ],
      "execution_count": 0,
      "outputs": []
    },
    {
      "cell_type": "code",
      "metadata": {
        "id": "YQBTCMod06wj",
        "colab_type": "code",
        "outputId": "ad0c1eb4-d344-4d35-b76f-d12b30f36188",
        "colab": {
          "base_uri": "https://localhost:8080/",
          "height": 70
        }
      },
      "source": [
        "img = image.load_img(BytesIO(base64.b64decode(imgString)), target_size=(28, 28), grayscale=True) "
      ],
      "execution_count": 19,
      "outputs": [
        {
          "output_type": "stream",
          "text": [
            "/usr/local/lib/python3.6/dist-packages/keras_preprocessing/image/utils.py:104: UserWarning: grayscale is deprecated. Please use color_mode = \"grayscale\"\n",
            "  warnings.warn('grayscale is deprecated. Please use '\n"
          ],
          "name": "stderr"
        }
      ]
    },
    {
      "cell_type": "code",
      "metadata": {
        "id": "HL7J8CwiFsKf",
        "colab_type": "code",
        "outputId": "c767a639-838b-4066-833c-27f0700e58b6",
        "colab": {
          "base_uri": "https://localhost:8080/",
          "height": 34
        }
      },
      "source": [
        "type(img)"
      ],
      "execution_count": 20,
      "outputs": [
        {
          "output_type": "execute_result",
          "data": {
            "text/plain": [
              "PIL.Image.Image"
            ]
          },
          "metadata": {
            "tags": []
          },
          "execution_count": 20
        }
      ]
    },
    {
      "cell_type": "code",
      "metadata": {
        "id": "WGmLFzjf-2tg",
        "colab_type": "code",
        "outputId": "de3ccc42-3dbe-4c72-ee56-4a2f013dddd8",
        "colab": {
          "base_uri": "https://localhost:8080/",
          "height": 34
        }
      },
      "source": [
        "x = image.img_to_array(img)\n",
        "x = np.expand_dims(x, axis=0)\n",
        "\n",
        "images = np.vstack([x])\n",
        "classes = myCNN.getModel().predict_classes(images, batch_size=10)\n",
        "print(classes)"
      ],
      "execution_count": 21,
      "outputs": [
        {
          "output_type": "stream",
          "text": [
            "[4]\n"
          ],
          "name": "stdout"
        }
      ]
    },
    {
      "cell_type": "code",
      "metadata": {
        "id": "P57ig8rEVvUz",
        "colab_type": "code",
        "colab": {}
      },
      "source": [
        "# Save model\n",
        "myCNN.getModel().save('keras.h5')"
      ],
      "execution_count": 0,
      "outputs": []
    },
    {
      "cell_type": "code",
      "metadata": {
        "id": "iYTiAJyyWoSB",
        "colab_type": "code",
        "colab": {}
      },
      "source": [
        "class_names = [\n",
        "    'T-shirt/top',\n",
        "    'Trouser',\n",
        "    'Pullover',\n",
        "    'Dress',\n",
        "    'Coat',\n",
        "    'Sandal',\n",
        "    'Shirt',\n",
        "    'Sneaker',\n",
        "    'Bag',\n",
        "    'Ankle boot',\n",
        "]"
      ],
      "execution_count": 0,
      "outputs": []
    },
    {
      "cell_type": "code",
      "metadata": {
        "id": "t2OCBWN_X2AQ",
        "colab_type": "code",
        "colab": {
          "base_uri": "https://localhost:8080/",
          "height": 185
        },
        "outputId": "06f00329-07b5-4e61-db93-118ed42a31a1"
      },
      "source": [
        "class_names"
      ],
      "execution_count": 27,
      "outputs": [
        {
          "output_type": "execute_result",
          "data": {
            "text/plain": [
              "['T-shirt/top',\n",
              " 'Trouser',\n",
              " 'Pullover',\n",
              " 'Dress',\n",
              " 'Coat',\n",
              " 'Sandal',\n",
              " 'Shirt',\n",
              " 'Sneaker',\n",
              " 'Bag',\n",
              " 'Ankle boot']"
            ]
          },
          "metadata": {
            "tags": []
          },
          "execution_count": 27
        }
      ]
    },
    {
      "cell_type": "code",
      "metadata": {
        "id": "AiD19KyoWUcZ",
        "colab_type": "code",
        "colab": {}
      },
      "source": [
        "with open('class_names.txt', 'w') as file_handler:\n",
        "    for item in class_names:\n",
        "        file_handler.write(\"{}\\n\".format(item))"
      ],
      "execution_count": 0,
      "outputs": []
    },
    {
      "cell_type": "code",
      "metadata": {
        "id": "2CFBKpBXYV0f",
        "colab_type": "code",
        "colab": {}
      },
      "source": [
        "!mkdir model\n",
        "!tensorflowjs_converter --input_format keras keras.h5 model/"
      ],
      "execution_count": 0,
      "outputs": []
    },
    {
      "cell_type": "code",
      "metadata": {
        "id": "cQKxzmItXdS2",
        "colab_type": "code",
        "colab": {
          "base_uri": "https://localhost:8080/",
          "height": 101
        },
        "outputId": "f65aeae3-0f1b-43f9-e2e0-aa4eb94103ec"
      },
      "source": [
        "# Prepare and Download model\n",
        "!cp class_names.txt model/class_names.txt\n",
        "!zip -r model.zip model \n",
        "from google.colab import files\n",
        "files.download('model.zip')"
      ],
      "execution_count": 31,
      "outputs": [
        {
          "output_type": "stream",
          "text": [
            "  adding: model/ (stored 0%)\n",
            "  adding: model/group1-shard2of2.bin (deflated 7%)\n",
            "  adding: model/group1-shard1of2.bin (deflated 7%)\n",
            "  adding: model/model.json (deflated 84%)\n",
            "  adding: model/class_names.txt (deflated 4%)\n"
          ],
          "name": "stdout"
        }
      ]
    },
    {
      "cell_type": "code",
      "metadata": {
        "id": "1ILIWuuRYIOA",
        "colab_type": "code",
        "colab": {}
      },
      "source": [
        ""
      ],
      "execution_count": 0,
      "outputs": []
    }
  ]
}